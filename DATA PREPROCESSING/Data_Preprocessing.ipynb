{
  "nbformat": 4,
  "nbformat_minor": 0,
  "metadata": {
    "colab": {
      "provenance": [],
      "collapsed_sections": []
    },
    "kernelspec": {
      "name": "python3",
      "display_name": "Python 3"
    },
    "language_info": {
      "name": "python"
    }
  },
  "cells": [
    {
      "cell_type": "markdown",
      "source": [
        " **IMPORTING LIBRARIES**"
      ],
      "metadata": {
        "id": "pU-Fs-kB59Rw"
      }
    },
    {
      "cell_type": "markdown",
      "source": [],
      "metadata": {
        "id": "dlLlY4sA6bvX"
      }
    },
    {
      "cell_type": "code",
      "source": [
        "import pandas as pd\n",
        "import pandas as pd\n",
        "import seaborn as sns\n",
        "import matplotlib.pyplot as plt"
      ],
      "metadata": {
        "id": "K02dUj_70jUx"
      },
      "execution_count": 10,
      "outputs": []
    },
    {
      "cell_type": "markdown",
      "source": [
        "**IMPORTING DATASET**"
      ],
      "metadata": {
        "id": "JLz4z4IJ6DPn"
      }
    },
    {
      "cell_type": "code",
      "source": [
        "ds=pd.read_excel(r\"Crude Oil Prices Daily.xlsx\")"
      ],
      "metadata": {
        "id": "z6qzoZFf0rlR"
      },
      "execution_count": 15,
      "outputs": []
    },
    {
      "cell_type": "code",
      "source": [
        "ds.shape"
      ],
      "metadata": {
        "colab": {
          "base_uri": "https://localhost:8080/"
        },
        "id": "vVd58Sgz5ZTI",
        "outputId": "5d83fa78-0438-4910-e20d-3785c0d98383"
      },
      "execution_count": null,
      "outputs": [
        {
          "output_type": "execute_result",
          "data": {
            "text/plain": [
              "(8223, 2)"
            ]
          },
          "metadata": {},
          "execution_count": 10
        }
      ]
    },
    {
      "cell_type": "code",
      "source": [
        "ds.describe()"
      ],
      "metadata": {
        "colab": {
          "base_uri": "https://localhost:8080/",
          "height": 300
        },
        "id": "yVqD1m85piVu",
        "outputId": "29fe8eb8-ba54-4ead-e51e-365e29f737a0"
      },
      "execution_count": 14,
      "outputs": [
        {
          "output_type": "execute_result",
          "data": {
            "text/plain": [
              "       Closing Value\n",
              "count    8216.000000\n",
              "mean       43.492139\n",
              "std        29.616804\n",
              "min        10.250000\n",
              "25%        19.577500\n",
              "50%        29.610000\n",
              "75%        63.402500\n",
              "max       145.310000"
            ],
            "text/html": [
              "\n",
              "  <div id=\"df-532134bc-f4ee-47f0-8fec-ae5e7310433c\">\n",
              "    <div class=\"colab-df-container\">\n",
              "      <div>\n",
              "<style scoped>\n",
              "    .dataframe tbody tr th:only-of-type {\n",
              "        vertical-align: middle;\n",
              "    }\n",
              "\n",
              "    .dataframe tbody tr th {\n",
              "        vertical-align: top;\n",
              "    }\n",
              "\n",
              "    .dataframe thead th {\n",
              "        text-align: right;\n",
              "    }\n",
              "</style>\n",
              "<table border=\"1\" class=\"dataframe\">\n",
              "  <thead>\n",
              "    <tr style=\"text-align: right;\">\n",
              "      <th></th>\n",
              "      <th>Closing Value</th>\n",
              "    </tr>\n",
              "  </thead>\n",
              "  <tbody>\n",
              "    <tr>\n",
              "      <th>count</th>\n",
              "      <td>8216.000000</td>\n",
              "    </tr>\n",
              "    <tr>\n",
              "      <th>mean</th>\n",
              "      <td>43.492139</td>\n",
              "    </tr>\n",
              "    <tr>\n",
              "      <th>std</th>\n",
              "      <td>29.616804</td>\n",
              "    </tr>\n",
              "    <tr>\n",
              "      <th>min</th>\n",
              "      <td>10.250000</td>\n",
              "    </tr>\n",
              "    <tr>\n",
              "      <th>25%</th>\n",
              "      <td>19.577500</td>\n",
              "    </tr>\n",
              "    <tr>\n",
              "      <th>50%</th>\n",
              "      <td>29.610000</td>\n",
              "    </tr>\n",
              "    <tr>\n",
              "      <th>75%</th>\n",
              "      <td>63.402500</td>\n",
              "    </tr>\n",
              "    <tr>\n",
              "      <th>max</th>\n",
              "      <td>145.310000</td>\n",
              "    </tr>\n",
              "  </tbody>\n",
              "</table>\n",
              "</div>\n",
              "      <button class=\"colab-df-convert\" onclick=\"convertToInteractive('df-532134bc-f4ee-47f0-8fec-ae5e7310433c')\"\n",
              "              title=\"Convert this dataframe to an interactive table.\"\n",
              "              style=\"display:none;\">\n",
              "        \n",
              "  <svg xmlns=\"http://www.w3.org/2000/svg\" height=\"24px\"viewBox=\"0 0 24 24\"\n",
              "       width=\"24px\">\n",
              "    <path d=\"M0 0h24v24H0V0z\" fill=\"none\"/>\n",
              "    <path d=\"M18.56 5.44l.94 2.06.94-2.06 2.06-.94-2.06-.94-.94-2.06-.94 2.06-2.06.94zm-11 1L8.5 8.5l.94-2.06 2.06-.94-2.06-.94L8.5 2.5l-.94 2.06-2.06.94zm10 10l.94 2.06.94-2.06 2.06-.94-2.06-.94-.94-2.06-.94 2.06-2.06.94z\"/><path d=\"M17.41 7.96l-1.37-1.37c-.4-.4-.92-.59-1.43-.59-.52 0-1.04.2-1.43.59L10.3 9.45l-7.72 7.72c-.78.78-.78 2.05 0 2.83L4 21.41c.39.39.9.59 1.41.59.51 0 1.02-.2 1.41-.59l7.78-7.78 2.81-2.81c.8-.78.8-2.07 0-2.86zM5.41 20L4 18.59l7.72-7.72 1.47 1.35L5.41 20z\"/>\n",
              "  </svg>\n",
              "      </button>\n",
              "      \n",
              "  <style>\n",
              "    .colab-df-container {\n",
              "      display:flex;\n",
              "      flex-wrap:wrap;\n",
              "      gap: 12px;\n",
              "    }\n",
              "\n",
              "    .colab-df-convert {\n",
              "      background-color: #E8F0FE;\n",
              "      border: none;\n",
              "      border-radius: 50%;\n",
              "      cursor: pointer;\n",
              "      display: none;\n",
              "      fill: #1967D2;\n",
              "      height: 32px;\n",
              "      padding: 0 0 0 0;\n",
              "      width: 32px;\n",
              "    }\n",
              "\n",
              "    .colab-df-convert:hover {\n",
              "      background-color: #E2EBFA;\n",
              "      box-shadow: 0px 1px 2px rgba(60, 64, 67, 0.3), 0px 1px 3px 1px rgba(60, 64, 67, 0.15);\n",
              "      fill: #174EA6;\n",
              "    }\n",
              "\n",
              "    [theme=dark] .colab-df-convert {\n",
              "      background-color: #3B4455;\n",
              "      fill: #D2E3FC;\n",
              "    }\n",
              "\n",
              "    [theme=dark] .colab-df-convert:hover {\n",
              "      background-color: #434B5C;\n",
              "      box-shadow: 0px 1px 3px 1px rgba(0, 0, 0, 0.15);\n",
              "      filter: drop-shadow(0px 1px 2px rgba(0, 0, 0, 0.3));\n",
              "      fill: #FFFFFF;\n",
              "    }\n",
              "  </style>\n",
              "\n",
              "      <script>\n",
              "        const buttonEl =\n",
              "          document.querySelector('#df-532134bc-f4ee-47f0-8fec-ae5e7310433c button.colab-df-convert');\n",
              "        buttonEl.style.display =\n",
              "          google.colab.kernel.accessAllowed ? 'block' : 'none';\n",
              "\n",
              "        async function convertToInteractive(key) {\n",
              "          const element = document.querySelector('#df-532134bc-f4ee-47f0-8fec-ae5e7310433c');\n",
              "          const dataTable =\n",
              "            await google.colab.kernel.invokeFunction('convertToInteractive',\n",
              "                                                     [key], {});\n",
              "          if (!dataTable) return;\n",
              "\n",
              "          const docLinkHtml = 'Like what you see? Visit the ' +\n",
              "            '<a target=\"_blank\" href=https://colab.research.google.com/notebooks/data_table.ipynb>data table notebook</a>'\n",
              "            + ' to learn more about interactive tables.';\n",
              "          element.innerHTML = '';\n",
              "          dataTable['output_type'] = 'display_data';\n",
              "          await google.colab.output.renderOutput(dataTable, element);\n",
              "          const docLink = document.createElement('div');\n",
              "          docLink.innerHTML = docLinkHtml;\n",
              "          element.appendChild(docLink);\n",
              "        }\n",
              "      </script>\n",
              "    </div>\n",
              "  </div>\n",
              "  "
            ]
          },
          "metadata": {},
          "execution_count": 14
        }
      ]
    },
    {
      "cell_type": "code",
      "source": [
        "ds.head"
      ],
      "metadata": {
        "colab": {
          "base_uri": "https://localhost:8080/"
        },
        "id": "_kk_RYjw5zO3",
        "outputId": "b04c8efc-1a0b-42ca-ebe3-b08d72f14d91"
      },
      "execution_count": 16,
      "outputs": [
        {
          "output_type": "execute_result",
          "data": {
            "text/plain": [
              "<bound method NDFrame.head of            Date  Closing Value\n",
              "0    1986-01-02          25.56\n",
              "1    1986-01-03          26.00\n",
              "2    1986-01-06          26.53\n",
              "3    1986-01-07          25.85\n",
              "4    1986-01-08          25.87\n",
              "...         ...            ...\n",
              "8218 2018-07-03          74.19\n",
              "8219 2018-07-04            NaN\n",
              "8220 2018-07-05          73.05\n",
              "8221 2018-07-06          73.78\n",
              "8222 2018-07-09          73.93\n",
              "\n",
              "[8223 rows x 2 columns]>"
            ]
          },
          "metadata": {},
          "execution_count": 16
        }
      ]
    },
    {
      "cell_type": "markdown",
      "source": [
        "**HANDLING_MISSING_VALUES**"
      ],
      "metadata": {
        "id": "JjdQCxf27G4n"
      }
    },
    {
      "cell_type": "code",
      "source": [
        "ds.isnull().sum()"
      ],
      "metadata": {
        "colab": {
          "base_uri": "https://localhost:8080/"
        },
        "id": "oheZTi6152r3",
        "outputId": "b80b3bf0-8aa6-468b-b6cc-fcd9bdcc1b67"
      },
      "execution_count": 17,
      "outputs": [
        {
          "output_type": "execute_result",
          "data": {
            "text/plain": [
              "Date             0\n",
              "Closing Value    7\n",
              "dtype: int64"
            ]
          },
          "metadata": {},
          "execution_count": 17
        }
      ]
    },
    {
      "cell_type": "code",
      "source": [
        "hd=ds.dropna()\n",
        "print(hd)"
      ],
      "metadata": {
        "colab": {
          "base_uri": "https://localhost:8080/"
        },
        "id": "Vrgvl8Iv61Xp",
        "outputId": "08e86dc3-1a37-4aaa-f502-676da93c8ada"
      },
      "execution_count": 18,
      "outputs": [
        {
          "output_type": "stream",
          "name": "stdout",
          "text": [
            "           Date  Closing Value\n",
            "0    1986-01-02          25.56\n",
            "1    1986-01-03          26.00\n",
            "2    1986-01-06          26.53\n",
            "3    1986-01-07          25.85\n",
            "4    1986-01-08          25.87\n",
            "...         ...            ...\n",
            "8217 2018-07-02          73.89\n",
            "8218 2018-07-03          74.19\n",
            "8220 2018-07-05          73.05\n",
            "8221 2018-07-06          73.78\n",
            "8222 2018-07-09          73.93\n",
            "\n",
            "[8216 rows x 2 columns]\n"
          ]
        }
      ]
    },
    {
      "cell_type": "code",
      "source": [
        "hd.isnull().sum()"
      ],
      "metadata": {
        "colab": {
          "base_uri": "https://localhost:8080/"
        },
        "id": "0YWiZcHD654I",
        "outputId": "3b05d39e-ea41-46fc-ba66-7ec55b9e55dc"
      },
      "execution_count": 19,
      "outputs": [
        {
          "output_type": "execute_result",
          "data": {
            "text/plain": [
              "Date             0\n",
              "Closing Value    0\n",
              "dtype: int64"
            ]
          },
          "metadata": {},
          "execution_count": 19
        }
      ]
    },
    {
      "cell_type": "code",
      "source": [
        "hd.dropna(axis=0,inplace=True)\n",
        "hd.isnull().sum()"
      ],
      "metadata": {
        "colab": {
          "base_uri": "https://localhost:8080/"
        },
        "id": "Ef6dw95D7muR",
        "outputId": "b54ee3b8-2aea-4843-a0d5-1d88d53a705a"
      },
      "execution_count": 20,
      "outputs": [
        {
          "output_type": "stream",
          "name": "stderr",
          "text": [
            "/usr/local/lib/python3.7/dist-packages/pandas/util/_decorators.py:311: SettingWithCopyWarning: \n",
            "A value is trying to be set on a copy of a slice from a DataFrame\n",
            "\n",
            "See the caveats in the documentation: https://pandas.pydata.org/pandas-docs/stable/user_guide/indexing.html#returning-a-view-versus-a-copy\n",
            "  return func(*args, **kwargs)\n"
          ]
        },
        {
          "output_type": "execute_result",
          "data": {
            "text/plain": [
              "Date             0\n",
              "Closing Value    0\n",
              "dtype: int64"
            ]
          },
          "metadata": {},
          "execution_count": 20
        }
      ]
    },
    {
      "cell_type": "code",
      "source": [
        "data_oil = ds.reset_index()['Closing Value']\n",
        "data_oil\n"
      ],
      "metadata": {
        "id": "tDl7ObqR8Kgg",
        "colab": {
          "base_uri": "https://localhost:8080/"
        },
        "outputId": "7e5da455-4180-4777-d3fc-3b0b32b44ef2"
      },
      "execution_count": 21,
      "outputs": [
        {
          "output_type": "execute_result",
          "data": {
            "text/plain": [
              "0       25.56\n",
              "1       26.00\n",
              "2       26.53\n",
              "3       25.85\n",
              "4       25.87\n",
              "        ...  \n",
              "8218    74.19\n",
              "8219      NaN\n",
              "8220    73.05\n",
              "8221    73.78\n",
              "8222    73.93\n",
              "Name: Closing Value, Length: 8223, dtype: float64"
            ]
          },
          "metadata": {},
          "execution_count": 21
        }
      ]
    },
    {
      "cell_type": "markdown",
      "source": [
        "**FEATURES_SCALING**"
      ],
      "metadata": {
        "id": "xHDl2Dz07ZOf"
      }
    },
    {
      "cell_type": "code",
      "source": [
        "from sklearn.preprocessing import MinMaxScaler\n",
        "scaler=MinMaxScaler(feature_range=(0,1)) \n",
        "data_oil=scaler.fit_transform(plt.np.array(data_oil).reshape(-1,1)) \n"
      ],
      "metadata": {
        "id": "6jMsPvU_68-3"
      },
      "execution_count": 22,
      "outputs": []
    },
    {
      "cell_type": "code",
      "source": [
        "from sklearn import preprocessing\n"
      ],
      "metadata": {
        "id": "NwEH5-RkFHIs"
      },
      "execution_count": 23,
      "outputs": []
    },
    {
      "cell_type": "code",
      "source": [
        "prepro = hd.iloc[:, 1:2].values\n",
        "print (\"\\nOriginal data values : \\n\",  prepro)"
      ],
      "metadata": {
        "colab": {
          "base_uri": "https://localhost:8080/"
        },
        "id": "2QXvjWOzEp3F",
        "outputId": "dca05ab4-5473-492e-96bc-533239a0b551"
      },
      "execution_count": 24,
      "outputs": [
        {
          "output_type": "stream",
          "name": "stdout",
          "text": [
            "\n",
            "Original data values : \n",
            " [[25.56]\n",
            " [26.  ]\n",
            " [26.53]\n",
            " ...\n",
            " [73.05]\n",
            " [73.78]\n",
            " [73.93]]\n"
          ]
        }
      ]
    },
    {
      "cell_type": "code",
      "source": [
        "Standardisation = preprocessing.StandardScaler()\n",
        "x_after_Standardisation = Standardisation.fit_transform(prepro)\n",
        "print (\"\\nAfter Standardisation : \\n\", x_after_Standardisation)"
      ],
      "metadata": {
        "colab": {
          "base_uri": "https://localhost:8080/"
        },
        "id": "vsqBG48WEkyV",
        "outputId": "685b9bc1-2dd4-4737-9cff-aa7c3f02f694"
      },
      "execution_count": 25,
      "outputs": [
        {
          "output_type": "stream",
          "name": "stdout",
          "text": [
            "\n",
            "After Standardisation : \n",
            " [[-0.60550861]\n",
            " [-0.59065128]\n",
            " [-0.57275494]\n",
            " ...\n",
            " [ 0.99807057]\n",
            " [ 1.02272024]\n",
            " [ 1.02778524]]\n"
          ]
        }
      ]
    },
    {
      "cell_type": "code",
      "source": [
        "min_max_scaler = preprocessing.MinMaxScaler(feature_range =(0, 1))\n",
        "x_after_min_max_scaler = min_max_scaler.fit_transform(prepro)\n",
        "print (\"\\nAfter min max Scaling : \\n\", x_after_min_max_scaler)"
      ],
      "metadata": {
        "colab": {
          "base_uri": "https://localhost:8080/"
        },
        "id": "tm2jvoiwFMFM",
        "outputId": "b0204d3d-5c7c-4f0b-d723-a6a8086e6b52"
      },
      "execution_count": 26,
      "outputs": [
        {
          "output_type": "stream",
          "name": "stdout",
          "text": [
            "\n",
            "After min max Scaling : \n",
            " [[0.11335703]\n",
            " [0.11661484]\n",
            " [0.12053902]\n",
            " ...\n",
            " [0.46497853]\n",
            " [0.47038353]\n",
            " [0.47149415]]\n"
          ]
        }
      ]
    },
    {
      "cell_type": "markdown",
      "source": [
        "**DATA_VISUALIZATION**"
      ],
      "metadata": {
        "id": "Lv6-FslN7Cwf"
      }
    },
    {
      "cell_type": "code",
      "source": [
        "import pandas as pd\n",
        "import matplotlib.pyplot as plt\n",
        "plt.scatter(ds['Date'], ds['Closing Value'])\n",
        " \n",
        "plt.title(\"Scatter Plot\")\n",
        " \n",
        "\n",
        "plt.xlabel('Date')\n",
        "plt.ylabel('Closing Value')\n",
        " \n",
        "plt.show()"
      ],
      "metadata": {
        "colab": {
          "base_uri": "https://localhost:8080/",
          "height": 295
        },
        "id": "m6d7nwnvFhQ0",
        "outputId": "612f770d-ce6b-4d74-e788-0ffb4b08b05d"
      },
      "execution_count": 27,
      "outputs": [
        {
          "output_type": "display_data",
          "data": {
            "text/plain": [
              "<Figure size 432x288 with 1 Axes>"
            ],
            "image/png": "[encoded data removed]"
          },
          "metadata": {
            "needs_background": "light"
          }
        }
      ]
    },
    {
      "cell_type": "code",
      "source": [
        "\n",
        "import seaborn as sns\n",
        "import matplotlib.pyplot as plt\n",
        "import pandas as pd\n",
        "sns.lineplot(x='Date', y='Closing Value', data=ds)\n",
        "plt.show()\n"
      ],
      "metadata": {
        "colab": {
          "base_uri": "https://localhost:8080/",
          "height": 279
        },
        "id": "rkwdhC2RFpLd",
        "outputId": "3735abb9-5281-43a4-da08-bef1a854f156"
      },
      "execution_count": 28,
      "outputs": [
        {
          "output_type": "display_data",
          "data": {
            "text/plain": [
              "<Figure size 432x288 with 1 Axes>"
            ],
            "image/png": "[encoded data removed]"
          },
          "metadata": {
            "needs_background": "light"
          }
        }
      ]
    },
    {
      "cell_type": "markdown",
      "source": [
        "**SPLITTING_DATA_INTO_TRAINING_DATA_AND_TESTING_DATA**\n"
      ],
      "metadata": {
        "id": "n0gKmHE0SISc"
      }
    },
    {
      "cell_type": "code",
      "source": [
        "hd['TV1'] = hd['Closing Value'].shift(1).rolling(window=3).mean()\n",
        "hd['TV2']= hd['Closing Value'].shift(1).rolling(window=9).mean()\n",
        "hd = hd.dropna()\n"
      ],
      "metadata": {
        "id": "UcUlIs1kMzt5",
        "colab": {
          "base_uri": "https://localhost:8080/"
        },
        "outputId": "d440272c-4acf-4f03-cfb8-0b4297cd3159"
      },
      "execution_count": 37,
      "outputs": [
        {
          "output_type": "stream",
          "name": "stderr",
          "text": [
            "/usr/local/lib/python3.7/dist-packages/ipykernel_launcher.py:1: SettingWithCopyWarning: \n",
            "A value is trying to be set on a copy of a slice from a DataFrame.\n",
            "Try using .loc[row_indexer,col_indexer] = value instead\n",
            "\n",
            "See the caveats in the documentation: https://pandas.pydata.org/pandas-docs/stable/user_guide/indexing.html#returning-a-view-versus-a-copy\n",
            "  \"\"\"Entry point for launching an IPython kernel.\n",
            "/usr/local/lib/python3.7/dist-packages/ipykernel_launcher.py:2: SettingWithCopyWarning: \n",
            "A value is trying to be set on a copy of a slice from a DataFrame.\n",
            "Try using .loc[row_indexer,col_indexer] = value instead\n",
            "\n",
            "See the caveats in the documentation: https://pandas.pydata.org/pandas-docs/stable/user_guide/indexing.html#returning-a-view-versus-a-copy\n",
            "  \n"
          ]
        }
      ]
    },
    {
      "cell_type": "code",
      "source": [
        "x = hd[['TV1','TV2']]\n",
        "x.head"
      ],
      "metadata": {
        "colab": {
          "base_uri": "https://localhost:8080/"
        },
        "id": "Rs__L6PVtAAL",
        "outputId": "b9ddb913-2526-4ce0-e0a5-52cd9dafc8ae"
      },
      "execution_count": 38,
      "outputs": [
        {
          "output_type": "execute_result",
          "data": {
            "text/plain": [
              "<bound method NDFrame.head of             TV1        TV2\n",
              "9     25.233333  25.726667\n",
              "10    25.076667  25.684444\n",
              "11    24.710000  25.460000\n",
              "12    24.263333  25.137778\n",
              "13    22.980000  24.635556\n",
              "...         ...        ...\n",
              "8217  74.996667  70.648889\n",
              "8218  73.823333  71.626667\n",
              "8220  74.070000  72.545556\n",
              "8221  73.710000  73.364444\n",
              "8222  73.673333  73.893333\n",
              "\n",
              "[8207 rows x 2 columns]>"
            ]
          },
          "metadata": {},
          "execution_count": 38
        }
      ]
    },
    {
      "cell_type": "code",
      "source": [
        "y = hd['Closing Value']\n",
        "y.head()"
      ],
      "metadata": {
        "colab": {
          "base_uri": "https://localhost:8080/"
        },
        "id": "z9h2wPAHtZHJ",
        "outputId": "2069abe1-b3de-41c0-972e-9dcb2fc9add5"
      },
      "execution_count": 40,
      "outputs": [
        {
          "output_type": "execute_result",
          "data": {
            "text/plain": [
              "9     25.18\n",
              "10    23.98\n",
              "11    23.63\n",
              "12    21.33\n",
              "13    20.61\n",
              "Name: Closing Value, dtype: float64"
            ]
          },
          "metadata": {},
          "execution_count": 40
        }
      ]
    },
    {
      "cell_type": "code",
      "source": [
        "t = int(len(hd)*0.8)\n",
        "\n",
        "\n",
        "x_train = x[:t]\n",
        "y_train = y[:t]\n",
        "\n",
        "\n",
        "x_test = x[t:]\n",
        "y_test = y[t:]"
      ],
      "metadata": {
        "id": "7QSi6eYNtb6Z"
      },
      "execution_count": 65,
      "outputs": []
    },
    {
      "cell_type": "code",
      "source": [
        "print(x_test,y_test)"
      ],
      "metadata": {
        "colab": {
          "base_uri": "https://localhost:8080/"
        },
        "id": "7seu_uURvZWE",
        "outputId": "ba465264-da6d-461c-9dc2-cce44c9231b3"
      },
      "execution_count": 64,
      "outputs": [
        {
          "output_type": "stream",
          "name": "stdout",
          "text": [
            "            TV1        TV2\n",
            "4112  26.926667  26.025556\n",
            "4113  27.373333  26.317778\n",
            "4114  27.313333  26.417778\n",
            "4115  26.800000  26.490000\n",
            "4116  26.336667  26.542222\n",
            "...         ...        ...\n",
            "8217  74.996667  70.648889\n",
            "8218  73.823333  71.626667\n",
            "8220  74.070000  72.545556\n",
            "8221  73.710000  73.364444\n",
            "8222  73.673333  73.893333\n",
            "\n",
            "[4104 rows x 2 columns] 4112    27.55\n",
            "4113    26.64\n",
            "4114    26.21\n",
            "4115    26.16\n",
            "4116    25.45\n",
            "        ...  \n",
            "8217    73.89\n",
            "8218    74.19\n",
            "8220    73.05\n",
            "8221    73.78\n",
            "8222    73.93\n",
            "Name: Closing Value, Length: 4104, dtype: float64\n"
          ]
        }
      ]
    },
    {
      "cell_type": "code",
      "source": [
        "from sklearn.linear_model import LinearRegression\n",
        "model = LinearRegression().fit(x_train,y_train)"
      ],
      "metadata": {
        "id": "4MXyJQ_otnyr"
      },
      "execution_count": 43,
      "outputs": []
    },
    {
      "cell_type": "code",
      "source": [
        "predicted_price = model.predict(x_test)\n",
        "predicted_price = pd.DataFrame(predicted_price,index=y_test.index,columns = ['Closing Value'])"
      ],
      "metadata": {
        "id": "QQfW3Ywmtuar"
      },
      "execution_count": 45,
      "outputs": []
    },
    {
      "cell_type": "code",
      "source": [
        "predicted_price.plot(figsize=(15,5))\n",
        "y_test.plot()\n",
        "plt.legend(['Predicted Price','Actual Price'])\n",
        "plt.xlabel(\"Year\")\n",
        "plt.ylabel(\"Price\")\n",
        "plt.show()"
      ],
      "metadata": {
        "colab": {
          "base_uri": "https://localhost:8080/",
          "height": 334
        },
        "id": "M21TSQ-wtyk7",
        "outputId": "29af17e5-26cc-4828-9706-a3632053bcd4"
      },
      "execution_count": 55,
      "outputs": [
        {
          "output_type": "display_data",
          "data": {
            "text/plain": [
              "<Figure size 1080x360 with 1 Axes>"
            ],
            "image/png": "[encoded data removed]"
          },
          "metadata": {
            "needs_background": "light"
          }
        }
      ]
    },
    {
      "cell_type": "code",
      "source": [],
      "metadata": {
        "id": "6_CNetC8t9Kb"
      },
      "execution_count": null,
      "outputs": []
    }
  ]
}